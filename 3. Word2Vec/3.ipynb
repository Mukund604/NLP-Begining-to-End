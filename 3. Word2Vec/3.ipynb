{
 "cells": [
  {
   "cell_type": "markdown",
   "metadata": {},
   "source": [
    "># Word Embeddings - Gensim\n",
    ">> ##### In Naturtal language processing, word embedding is a term used for the representation of words for text analysis, typically in the form of a real-valued vector that encodes the meaning of the word such that the words that are closer in the vector space are expected to be similar in meaning\n",
    ">>>1. Main advantage is that we get the semantic meaning of the words, like happy and joy are similar meaning words. \n",
    ">>>2. Lower Dimensinality as compared to Bag of words/TFIDF. Makes computation fast\n",
    ">>>3. Dense vector unlike Bag of words or TFIDF which has sparse vectors only containing 0's and 1's. Numbers are non zeroes in Word2Vec therefore reduces the risk of overfitting when compared to TFIDF and Bag of words\n",
    ">>>> We will use the pre-trained weights of word2vec that was trained on Google News corpus containing 3 billion words. This model consists of 300-dimensinoal vectors for 3 million words and phrases. using the Gensim library"
   ]
  },
  {
   "cell_type": "code",
   "execution_count": 5,
   "metadata": {},
   "outputs": [],
   "source": [
    "import gensim\n",
    "from gensim.models import KeyedVectors\n",
    "\n",
    "# model_path = 'C:/Users/mukun/Downloads/GoogleNews-vectors-negative300.bin'\n",
    "model_path = '/Users/mukund/Downloads/GoogleNews-vectors-negative300.bin'\n",
    "\n",
    "word_vectors = KeyedVectors.load_word2vec_format(model_path, binary=True)"
   ]
  },
  {
   "cell_type": "code",
   "execution_count": 7,
   "metadata": {},
   "outputs": [
    {
     "data": {
      "text/plain": [
       "(300,)"
      ]
     },
     "execution_count": 7,
     "metadata": {},
     "output_type": "execute_result"
    }
   ],
   "source": [
    "word_vectors['Men'].shape"
   ]
  },
  {
   "cell_type": "code",
   "execution_count": 58,
   "metadata": {},
   "outputs": [
    {
     "data": {
      "text/plain": [
       "[('instant', 0.4687642753124237),\n",
       " ('Hipster_Runoff', 0.421784907579422),\n",
       " ('heapin', 0.41485828161239624),\n",
       " ('Nudge_nudge', 0.41459229588508606),\n",
       " ('mys', 0.4145706295967102),\n",
       " ('meme', 0.41289272904396057),\n",
       " ('nerdgasm', 0.41157665848731995),\n",
       " ('shitshow', 0.41016778349876404),\n",
       " ('munchie', 0.40804770588874817),\n",
       " ('mildly_risqué', 0.4061107635498047)]"
      ]
     },
     "execution_count": 58,
     "metadata": {},
     "output_type": "execute_result"
    }
   ],
   "source": [
    "word_vectors.most_similar('insta')"
   ]
  },
  {
   "cell_type": "code",
   "execution_count": 69,
   "metadata": {},
   "outputs": [
    {
     "data": {
      "text/plain": [
       "'Monkey'"
      ]
     },
     "execution_count": 69,
     "metadata": {},
     "output_type": "execute_result"
    }
   ],
   "source": [
    "word_vectors.doesnt_match(['Monkey', 'Java', 'Python'])"
   ]
  },
  {
   "cell_type": "code",
   "execution_count": 73,
   "metadata": {},
   "outputs": [
    {
     "data": {
      "text/plain": [
       "[('man', 0.8438023328781128),\n",
       " ('woman', 0.8080447912216187),\n",
       " ('boy', 0.6565743088722229),\n",
       " ('girl', 0.6496928334236145),\n",
       " ('king', 0.6353368163108826),\n",
       " ('teenager', 0.6295289993286133),\n",
       " ('teenage_girl', 0.6285054683685303),\n",
       " ('teen_ager', 0.5504109263420105),\n",
       " ('lady', 0.5482487082481384),\n",
       " ('prince', 0.5309996604919434)]"
      ]
     },
     "execution_count": 73,
     "metadata": {},
     "output_type": "execute_result"
    }
   ],
   "source": [
    "vec = word_vectors['king'] + word_vectors['man'] + word_vectors['woman']\n",
    "word_vectors.most_similar([vec])"
   ]
  }
 ],
 "metadata": {
  "kernelspec": {
   "display_name": "Python 3",
   "language": "python",
   "name": "python3"
  },
  "language_info": {
   "codemirror_mode": {
    "name": "ipython",
    "version": 3
   },
   "file_extension": ".py",
   "mimetype": "text/x-python",
   "name": "python",
   "nbconvert_exporter": "python",
   "pygments_lexer": "ipython3",
   "version": "3.11.4"
  }
 },
 "nbformat": 4,
 "nbformat_minor": 2
}
